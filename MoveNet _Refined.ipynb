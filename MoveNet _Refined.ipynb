{
 "cells": [
  {
   "cell_type": "markdown",
   "metadata": {},
   "source": [
    "# 0. Install and Import Dependencies"
   ]
  },
  {
   "cell_type": "code",
   "execution_count": 1,
   "metadata": {},
   "outputs": [
    {
     "name": "stdout",
     "output_type": "stream",
     "text": [
      "Requirement already satisfied: tensorflow==2.4.1 in c:\\users\\drago\\pycharmprojects\\bitcamp2022-v2\\venv\\lib\\site-packages (2.4.1)\n",
      "Requirement already satisfied: tensorflow-gpu==2.4.1 in c:\\users\\drago\\pycharmprojects\\bitcamp2022-v2\\venv\\lib\\site-packages (2.4.1)\n",
      "Requirement already satisfied: opencv-python in c:\\users\\drago\\pycharmprojects\\bitcamp2022-v2\\venv\\lib\\site-packages (4.5.5.64)\n",
      "Requirement already satisfied: matplotlib in c:\\users\\drago\\pycharmprojects\\bitcamp2022-v2\\venv\\lib\\site-packages (3.5.1)\n",
      "Requirement already satisfied: absl-py~=0.10 in c:\\users\\drago\\pycharmprojects\\bitcamp2022-v2\\venv\\lib\\site-packages (from tensorflow==2.4.1) (0.15.0)\n",
      "Requirement already satisfied: wheel~=0.35 in c:\\users\\drago\\pycharmprojects\\bitcamp2022-v2\\venv\\lib\\site-packages (from tensorflow==2.4.1) (0.36.2)\n",
      "Requirement already satisfied: termcolor~=1.1.0 in c:\\users\\drago\\pycharmprojects\\bitcamp2022-v2\\venv\\lib\\site-packages (from tensorflow==2.4.1) (1.1.0)\n",
      "Requirement already satisfied: tensorboard~=2.4 in c:\\users\\drago\\pycharmprojects\\bitcamp2022-v2\\venv\\lib\\site-packages (from tensorflow==2.4.1) (2.8.0)\n",
      "Requirement already satisfied: tensorflow-estimator<2.5.0,>=2.4.0 in c:\\users\\drago\\pycharmprojects\\bitcamp2022-v2\\venv\\lib\\site-packages (from tensorflow==2.4.1) (2.4.0)\n",
      "Requirement already satisfied: opt-einsum~=3.3.0 in c:\\users\\drago\\pycharmprojects\\bitcamp2022-v2\\venv\\lib\\site-packages (from tensorflow==2.4.1) (3.3.0)\n",
      "Requirement already satisfied: h5py~=2.10.0 in c:\\users\\drago\\pycharmprojects\\bitcamp2022-v2\\venv\\lib\\site-packages (from tensorflow==2.4.1) (2.10.0)\n",
      "Requirement already satisfied: keras-preprocessing~=1.1.2 in c:\\users\\drago\\pycharmprojects\\bitcamp2022-v2\\venv\\lib\\site-packages (from tensorflow==2.4.1) (1.1.2)\n",
      "Requirement already satisfied: google-pasta~=0.2 in c:\\users\\drago\\pycharmprojects\\bitcamp2022-v2\\venv\\lib\\site-packages (from tensorflow==2.4.1) (0.2.0)\n",
      "Requirement already satisfied: protobuf>=3.9.2 in c:\\users\\drago\\pycharmprojects\\bitcamp2022-v2\\venv\\lib\\site-packages (from tensorflow==2.4.1) (3.20.0)\n",
      "Requirement already satisfied: numpy~=1.19.2 in c:\\users\\drago\\pycharmprojects\\bitcamp2022-v2\\venv\\lib\\site-packages (from tensorflow==2.4.1) (1.19.5)\n",
      "Requirement already satisfied: six~=1.15.0 in c:\\users\\drago\\pycharmprojects\\bitcamp2022-v2\\venv\\lib\\site-packages (from tensorflow==2.4.1) (1.15.0)\n",
      "Requirement already satisfied: wrapt~=1.12.1 in c:\\users\\drago\\pycharmprojects\\bitcamp2022-v2\\venv\\lib\\site-packages (from tensorflow==2.4.1) (1.12.1)\n",
      "Requirement already satisfied: grpcio~=1.32.0 in c:\\users\\drago\\pycharmprojects\\bitcamp2022-v2\\venv\\lib\\site-packages (from tensorflow==2.4.1) (1.32.0)\n",
      "Requirement already satisfied: flatbuffers~=1.12.0 in c:\\users\\drago\\pycharmprojects\\bitcamp2022-v2\\venv\\lib\\site-packages (from tensorflow==2.4.1) (1.12)\n",
      "Requirement already satisfied: typing-extensions~=3.7.4 in c:\\users\\drago\\pycharmprojects\\bitcamp2022-v2\\venv\\lib\\site-packages (from tensorflow==2.4.1) (3.7.4.3)\n",
      "Requirement already satisfied: gast==0.3.3 in c:\\users\\drago\\pycharmprojects\\bitcamp2022-v2\\venv\\lib\\site-packages (from tensorflow==2.4.1) (0.3.3)\n",
      "Requirement already satisfied: astunparse~=1.6.3 in c:\\users\\drago\\pycharmprojects\\bitcamp2022-v2\\venv\\lib\\site-packages (from tensorflow==2.4.1) (1.6.3)\n",
      "Requirement already satisfied: requests<3,>=2.21.0 in c:\\users\\drago\\pycharmprojects\\bitcamp2022-v2\\venv\\lib\\site-packages (from tensorboard~=2.4->tensorflow==2.4.1) (2.27.1)\n",
      "Requirement already satisfied: werkzeug>=0.11.15 in c:\\users\\drago\\pycharmprojects\\bitcamp2022-v2\\venv\\lib\\site-packages (from tensorboard~=2.4->tensorflow==2.4.1) (2.1.1)\n",
      "Requirement already satisfied: tensorboard-data-server<0.7.0,>=0.6.0 in c:\\users\\drago\\pycharmprojects\\bitcamp2022-v2\\venv\\lib\\site-packages (from tensorboard~=2.4->tensorflow==2.4.1) (0.6.1)\n",
      "Requirement already satisfied: markdown>=2.6.8 in c:\\users\\drago\\pycharmprojects\\bitcamp2022-v2\\venv\\lib\\site-packages (from tensorboard~=2.4->tensorflow==2.4.1) (3.3.6)\n",
      "Requirement already satisfied: setuptools>=41.0.0 in c:\\users\\drago\\pycharmprojects\\bitcamp2022-v2\\venv\\lib\\site-packages (from tensorboard~=2.4->tensorflow==2.4.1) (57.0.0)\n",
      "Requirement already satisfied: google-auth<3,>=1.6.3 in c:\\users\\drago\\pycharmprojects\\bitcamp2022-v2\\venv\\lib\\site-packages (from tensorboard~=2.4->tensorflow==2.4.1) (2.6.3)\n",
      "Requirement already satisfied: tensorboard-plugin-wit>=1.6.0 in c:\\users\\drago\\pycharmprojects\\bitcamp2022-v2\\venv\\lib\\site-packages (from tensorboard~=2.4->tensorflow==2.4.1) (1.8.1)\n",
      "Requirement already satisfied: google-auth-oauthlib<0.5,>=0.4.1 in c:\\users\\drago\\pycharmprojects\\bitcamp2022-v2\\venv\\lib\\site-packages (from tensorboard~=2.4->tensorflow==2.4.1) (0.4.6)\n",
      "Requirement already satisfied: cachetools<6.0,>=2.0.0 in c:\\users\\drago\\pycharmprojects\\bitcamp2022-v2\\venv\\lib\\site-packages (from google-auth<3,>=1.6.3->tensorboard~=2.4->tensorflow==2.4.1) (5.0.0)\n",
      "Requirement already satisfied: rsa<5,>=3.1.4 in c:\\users\\drago\\pycharmprojects\\bitcamp2022-v2\\venv\\lib\\site-packages (from google-auth<3,>=1.6.3->tensorboard~=2.4->tensorflow==2.4.1) (4.8)\n",
      "Requirement already satisfied: pyasn1-modules>=0.2.1 in c:\\users\\drago\\pycharmprojects\\bitcamp2022-v2\\venv\\lib\\site-packages (from google-auth<3,>=1.6.3->tensorboard~=2.4->tensorflow==2.4.1) (0.2.8)\n",
      "Requirement already satisfied: requests-oauthlib>=0.7.0 in c:\\users\\drago\\pycharmprojects\\bitcamp2022-v2\\venv\\lib\\site-packages (from google-auth-oauthlib<0.5,>=0.4.1->tensorboard~=2.4->tensorflow==2.4.1) (1.3.1)\n",
      "Requirement already satisfied: importlib-metadata>=4.4 in c:\\users\\drago\\pycharmprojects\\bitcamp2022-v2\\venv\\lib\\site-packages (from markdown>=2.6.8->tensorboard~=2.4->tensorflow==2.4.1) (4.11.3)\n",
      "Requirement already satisfied: zipp>=0.5 in c:\\users\\drago\\pycharmprojects\\bitcamp2022-v2\\venv\\lib\\site-packages (from importlib-metadata>=4.4->markdown>=2.6.8->tensorboard~=2.4->tensorflow==2.4.1) (3.8.0)\n",
      "Requirement already satisfied: pyasn1<0.5.0,>=0.4.6 in c:\\users\\drago\\pycharmprojects\\bitcamp2022-v2\\venv\\lib\\site-packages (from pyasn1-modules>=0.2.1->google-auth<3,>=1.6.3->tensorboard~=2.4->tensorflow==2.4.1) (0.4.8)\n",
      "Requirement already satisfied: charset-normalizer~=2.0.0 in c:\\users\\drago\\pycharmprojects\\bitcamp2022-v2\\venv\\lib\\site-packages (from requests<3,>=2.21.0->tensorboard~=2.4->tensorflow==2.4.1) (2.0.12)\n",
      "Requirement already satisfied: urllib3<1.27,>=1.21.1 in c:\\users\\drago\\pycharmprojects\\bitcamp2022-v2\\venv\\lib\\site-packages (from requests<3,>=2.21.0->tensorboard~=2.4->tensorflow==2.4.1) (1.26.9)\n",
      "Requirement already satisfied: idna<4,>=2.5 in c:\\users\\drago\\pycharmprojects\\bitcamp2022-v2\\venv\\lib\\site-packages (from requests<3,>=2.21.0->tensorboard~=2.4->tensorflow==2.4.1) (3.3)\n",
      "Requirement already satisfied: certifi>=2017.4.17 in c:\\users\\drago\\pycharmprojects\\bitcamp2022-v2\\venv\\lib\\site-packages (from requests<3,>=2.21.0->tensorboard~=2.4->tensorflow==2.4.1) (2021.10.8)\n",
      "Requirement already satisfied: oauthlib>=3.0.0 in c:\\users\\drago\\pycharmprojects\\bitcamp2022-v2\\venv\\lib\\site-packages (from requests-oauthlib>=0.7.0->google-auth-oauthlib<0.5,>=0.4.1->tensorboard~=2.4->tensorflow==2.4.1) (3.2.0)\n",
      "Requirement already satisfied: packaging>=20.0 in c:\\users\\drago\\pycharmprojects\\bitcamp2022-v2\\venv\\lib\\site-packages (from matplotlib) (21.3)\n",
      "Requirement already satisfied: pyparsing>=2.2.1 in c:\\users\\drago\\pycharmprojects\\bitcamp2022-v2\\venv\\lib\\site-packages (from matplotlib) (3.0.7)\n",
      "Requirement already satisfied: python-dateutil>=2.7 in c:\\users\\drago\\pycharmprojects\\bitcamp2022-v2\\venv\\lib\\site-packages (from matplotlib) (2.8.2)\n",
      "Requirement already satisfied: fonttools>=4.22.0 in c:\\users\\drago\\pycharmprojects\\bitcamp2022-v2\\venv\\lib\\site-packages (from matplotlib) (4.32.0)\n",
      "Requirement already satisfied: pillow>=6.2.0 in c:\\users\\drago\\pycharmprojects\\bitcamp2022-v2\\venv\\lib\\site-packages (from matplotlib) (9.1.0)\n",
      "Requirement already satisfied: kiwisolver>=1.0.1 in c:\\users\\drago\\pycharmprojects\\bitcamp2022-v2\\venv\\lib\\site-packages (from matplotlib) (1.4.2)\n",
      "Requirement already satisfied: cycler>=0.10 in c:\\users\\drago\\pycharmprojects\\bitcamp2022-v2\\venv\\lib\\site-packages (from matplotlib) (0.11.0)\n"
     ]
    },
    {
     "name": "stderr",
     "output_type": "stream",
     "text": [
      "WARNING: You are using pip version 21.1.2; however, version 22.0.4 is available.\n",
      "You should consider upgrading via the 'C:\\Users\\drago\\PycharmProjects\\bitcamp2022-v2\\venv\\Scripts\\python.exe -m pip install --upgrade pip' command.\n"
     ]
    }
   ],
   "source": [
    "!pip install tensorflow==2.4.1 tensorflow-gpu==2.4.1 opencv-python matplotlib"
   ]
  },
  {
   "cell_type": "code",
   "execution_count": 2,
   "metadata": {},
   "outputs": [],
   "source": [
    "import tensorflow as tf\n",
    "import numpy as np\n",
    "from matplotlib import pyplot as plt\n",
    "import cv2\n",
    "import cvzone"
   ]
  },
  {
   "cell_type": "markdown",
   "metadata": {},
   "source": [
    "# 1. Load Model"
   ]
  },
  {
   "cell_type": "code",
   "execution_count": 3,
   "metadata": {},
   "outputs": [],
   "source": [
    "interpreter = tf.lite.Interpreter(model_path='lite-model_movenet_singlepose_lightning_3.tflite')\n",
    "interpreter.allocate_tensors()"
   ]
  },
  {
   "cell_type": "markdown",
   "metadata": {},
   "source": [
    "# 2. Make Detections"
   ]
  },
  {
   "cell_type": "code",
   "execution_count": 34,
   "metadata": {},
   "outputs": [],
   "source": [
    "mask_path = \"Drawing.sketchpad.png\"\n",
    "mask = cv2.imread(mask_path, cv2.IMREAD_UNCHANGED)\n",
    "colors = [(255, 255, 255)] * 17"
   ]
  },
  {
   "cell_type": "code",
   "execution_count": null,
   "metadata": {},
   "outputs": [],
   "source": []
  },
  {
   "cell_type": "code",
   "execution_count": 64,
   "metadata": {
    "scrolled": true
   },
   "outputs": [],
   "source": [
    "cap = cv2.VideoCapture(0)\n",
    "while cap.isOpened():\n",
    "    ret, frame = cap.read()\n",
    "    \n",
    "    # Reshape image\n",
    "    img = frame.copy()\n",
    "    img = tf.image.resize_with_pad(np.expand_dims(img, axis=0), 192,192)\n",
    "    input_image = tf.cast(img, dtype=tf.float32)\n",
    "    # Setup input and output \n",
    "    input_details = interpreter.get_input_details()\n",
    "    output_details = interpreter.get_output_details()\n",
    "    \n",
    "    # Make predictions \n",
    "    interpreter.set_tensor(input_details[0]['index'], np.array(input_image))\n",
    "    interpreter.invoke()\n",
    "    keypoints_with_scores = interpreter.get_tensor(output_details[0]['index'])\n",
    "    \n",
    "        \n",
    "    #resize and render mask\n",
    "\n",
    "    frame = cv2.resize(frame, dsize=(843, 640), interpolation=cv2.INTER_CUBIC)\n",
    "    mask = cv2.resize(mask, dsize=(843, 640), interpolation=cv2.INTER_CUBIC)\n",
    "    \n",
    "    #change dtype of mask\n",
    "    mask = mask.astype('uint8')\n",
    "    \n",
    "    frame = np.concatenate((frame, np.full((640, 843, 1), 255, dtype = np.uint8)), axis=2)\n",
    "    frame = cv2.addWeighted(frame,1,mask,0.5,0)\n",
    "    \n",
    "    y, x, c = frame.shape\n",
    "    shaped = np.squeeze(np.multiply(keypoints_with_scores, [y,x,1]))\n",
    "    #collisions\n",
    "    for i in range(0, len(shaped)):\n",
    "        xpos = shaped[i][0]\n",
    "        ypos = shaped[i][1]\n",
    "        if xpos < y and ypos < x:\n",
    "            if mask[int(xpos), int(ypos), 3] > 0:\n",
    "                colors[i] = (255, 0 ,0)\n",
    "            else:\n",
    "                colors[i] = (255, 255, 255)\n",
    "    # Rendering \n",
    "    draw_connections(frame, keypoints_with_scores, EDGES, 0.4)\n",
    "    draw_keypoints(frame, shaped, 0.4, colors)\n",
    "    \n",
    "    frame = cv2.flip(frame, 1)\n",
    "    \n",
    "    cv2.imshow('MoveNet Lightning', frame)\n",
    "    if cv2.waitKey(10) & 0xFF==ord('q'):\n",
    "        break\n",
    "        \n",
    "cap.release()\n",
    "cv2.destroyAllWindows()"
   ]
  },
  {
   "cell_type": "markdown",
   "metadata": {},
   "source": [
    "# 3. Draw Keypoints"
   ]
  },
  {
   "cell_type": "code",
   "execution_count": 45,
   "metadata": {},
   "outputs": [],
   "source": [
    "def draw_keypoints(frame, shaped, confidence_threshold, colors):\n",
    "\n",
    "    \n",
    "    for i in range(0,len(shaped)):\n",
    "        ky, kx, kp_conf = shaped[i]\n",
    "        if kp_conf > confidence_threshold:\n",
    "            cv2.circle(frame, (int(kx), int(ky)), 4, colors[i], -1) "
   ]
  },
  {
   "cell_type": "markdown",
   "metadata": {},
   "source": [
    "# 4. Draw Edges"
   ]
  },
  {
   "cell_type": "code",
   "execution_count": 5,
   "metadata": {},
   "outputs": [],
   "source": [
    "EDGES = {\n",
    "    (0, 1): 'm',\n",
    "    (0, 2): 'c',\n",
    "    (1, 3): 'm',\n",
    "    (2, 4): 'c',\n",
    "    (0, 5): 'm',\n",
    "    (0, 6): 'c',\n",
    "    (5, 7): 'm',\n",
    "    (7, 9): 'm',\n",
    "    (6, 8): 'c',\n",
    "    (8, 10): 'c',\n",
    "    (5, 6): 'y',\n",
    "    (5, 11): 'm',\n",
    "    (6, 12): 'c',\n",
    "    (11, 12): 'y',\n",
    "    (11, 13): 'm',\n",
    "    (13, 15): 'm',\n",
    "    (12, 14): 'c',\n",
    "    (14, 16): 'c'\n",
    "}"
   ]
  },
  {
   "cell_type": "code",
   "execution_count": 6,
   "metadata": {},
   "outputs": [],
   "source": [
    "def draw_connections(frame, keypoints, edges, confidence_threshold):\n",
    "    y, x, c = frame.shape\n",
    "    shaped = np.squeeze(np.multiply(keypoints, [y,x,1]))\n",
    "    \n",
    "    for edge, color in edges.items():\n",
    "        p1, p2 = edge\n",
    "        y1, x1, c1 = shaped[p1]\n",
    "        y2, x2, c2 = shaped[p2]\n",
    "        \n",
    "        if (c1 > confidence_threshold) & (c2 > confidence_threshold):      \n",
    "            cv2.line(frame, (int(x1), int(y1)), (int(x2), int(y2)), (0,0,255), 2)"
   ]
  },
  {
   "cell_type": "code",
   "execution_count": 55,
   "metadata": {},
   "outputs": [
    {
     "data": {
      "text/plain": [
       "array([[[[0.6167953 , 0.69512   , 0.6994107 ],\n",
       "         [0.54987466, 0.7538654 , 0.6405294 ],\n",
       "         [0.5597022 , 0.6135205 , 0.6719326 ],\n",
       "         [0.5873893 , 0.8069303 , 0.62289757],\n",
       "         [0.6058488 , 0.53029317, 0.5356935 ],\n",
       "         [0.8826469 , 0.9513644 , 0.4900669 ],\n",
       "         [0.8581394 , 0.34953398, 0.6829895 ],\n",
       "         [0.96302044, 0.95712554, 0.06810358],\n",
       "         [0.9522349 , 0.28207368, 0.04933262],\n",
       "         [0.84346485, 0.81338376, 0.09313044],\n",
       "         [0.85243005, 0.4971974 , 0.03294319],\n",
       "         [1.0183244 , 0.9698061 , 0.0161885 ],\n",
       "         [1.0108995 , 0.32758602, 0.02139485],\n",
       "         [0.87531084, 0.9760338 , 0.01183209],\n",
       "         [0.8585793 , 0.3289579 , 0.05540204],\n",
       "         [0.6978508 , 0.7872009 , 0.01928529],\n",
       "         [0.6890411 , 0.5563992 , 0.00612673]]]], dtype=float32)"
      ]
     },
     "execution_count": 55,
     "metadata": {},
     "output_type": "execute_result"
    }
   ],
   "source": [
    "keypoints_with_scores\n"
   ]
  },
  {
   "cell_type": "code",
   "execution_count": null,
   "metadata": {},
   "outputs": [],
   "source": []
  },
  {
   "cell_type": "code",
   "execution_count": null,
   "metadata": {},
   "outputs": [],
   "source": []
  }
 ],
 "metadata": {
  "kernelspec": {
   "display_name": "Python 3 (ipykernel)",
   "language": "python",
   "name": "python3"
  },
  "language_info": {
   "codemirror_mode": {
    "name": "ipython",
    "version": 3
   },
   "file_extension": ".py",
   "mimetype": "text/x-python",
   "name": "python",
   "nbconvert_exporter": "python",
   "pygments_lexer": "ipython3",
   "version": "3.8.10"
  }
 },
 "nbformat": 4,
 "nbformat_minor": 2
}
